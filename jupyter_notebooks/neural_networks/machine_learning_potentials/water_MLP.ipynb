{
 "cells": [
  {
   "cell_type": "markdown",
   "metadata": {},
   "source": [
    "# Training a simple Neural Network-based Machine Learning Potential for a Water Molecule\n",
    "\n",
    "This notebook will cover the construction of a very simple NN-based machine learning potential for water. The goal is to be able to use the resulting model for gas phase simulations of a single water molecule. The model that will be introduced here only uses the energy for training (atomic forces are calculated by backpropagation). In practice, it is a very good idea to also add force information as additional outputs to the NN to make force predictions much more robust. Note that the force predictions will still be calculated by taking the gradient of the energy predictions of the NN with respect to the NN inputs.\n",
    "\n",
    "All scripts to generate the dataset and make the models are provided in this repository:\n",
    "\n",
    "TODO: insert repository"
   ]
  },
  {
   "cell_type": "markdown",
   "metadata": {},
   "source": [
    "## Generating Quantum Mechanical Dataset\n",
    "\n"
   ]
  },
  {
   "cell_type": "markdown",
   "metadata": {},
   "source": []
  },
  {
   "cell_type": "markdown",
   "metadata": {},
   "source": []
  }
 ],
 "metadata": {
  "language_info": {
   "name": "python"
  }
 },
 "nbformat": 4,
 "nbformat_minor": 2
}
