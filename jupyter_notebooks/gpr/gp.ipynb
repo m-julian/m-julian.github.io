{
 "cells": [
  {
   "cell_type": "code",
   "execution_count": 2,
   "metadata": {},
   "outputs": [],
   "source": [
    "import numpy as np\n",
    "from matplotlib import pyplot as plt\n"
   ]
  },
  {
   "cell_type": "markdown",
   "metadata": {},
   "source": [
    "Gaussian Process Regression (GPR), also referred to as *kriging* in the geostatistics domain, is a supervised non-parametric machine learning (ML) approach, where the data used to train the model is required to make predictions. In non-parametric models, the number of parameters grows as the amount of training data grows because the data itself is effectively part of the model parameterization. This is in contrast with parametric models (such as neural networks), where the training data can be discarded after the model is trained, and the number of model parameters stays constant even if the amount of training data increases.\n",
    "\n",
    "In supervised learning, we observe a set of $N$ inputs $\\{\\mathbf{x}_1, \\mathbf{x}_2, \\dots, \\mathbf{x}_N\\}$ which correspond to a set of $N$ outputs $\\{y_1, y_2, \\dots, y_N \\}$. The collection of inputs and outputs is referred to as a *dataset*. The outputs are assumed to originate from some *true* unknown function $f$ such that\n",
    "\n",
    "$$\n",
    "\\begin{equation}\n",
    "y_i = f(\\mathbf{x}_i)\n",
    "\\label{observation_definitions}\n",
    "\\end{equation}\n",
    "$$\n",
    "\n",
    "for the noise-free case. In reality, there is always some data noise, so Equation $\\ref{observation_definitions}$ becomes\n",
    "\n",
    "$$\n",
    "\\begin{equation}\n",
    "    y_i = f(\\mathbf{x}_i) + \\epsilon(\\mathbf{x}_i)\n",
    "\\end{equation}\n",
    "$$"
   ]
  },
  {
   "cell_type": "markdown",
   "metadata": {},
   "source": [
    "\\begin{equation*}\n",
    "\\mathbf{r} \\equiv \\begin{bmatrix}\n",
    "y \\\\\n",
    "\\theta\n",
    "\\end{bmatrix}\n",
    "\\label{eq:vector_ray} \\tag{1}\n",
    "\\end{equation*}\n",
    "\n",
    "Vector **r** is defined by equation $\\eqref{eq:vector_ray}$"
   ]
  },
  {
   "cell_type": "code",
   "execution_count": null,
   "metadata": {},
   "outputs": [],
   "source": []
  },
  {
   "cell_type": "markdown",
   "metadata": {},
   "source": []
  }
 ],
 "metadata": {
  "kernelspec": {
   "display_name": "Python 3 (ipykernel)",
   "language": "python",
   "name": "python3"
  },
  "language_info": {
   "codemirror_mode": {
    "name": "ipython",
    "version": 3
   },
   "file_extension": ".py",
   "mimetype": "text/x-python",
   "name": "python",
   "nbconvert_exporter": "python",
   "pygments_lexer": "ipython3",
   "version": "3.10.15"
  }
 },
 "nbformat": 4,
 "nbformat_minor": 4
}
